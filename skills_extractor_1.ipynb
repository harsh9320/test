{
 "cells": [
  {
   "cell_type": "code",
   "execution_count": 43,
   "metadata": {},
   "outputs": [],
   "source": []
  },
  {
   "cell_type": "code",
   "execution_count": 1,
   "metadata": {},
   "outputs": [
    {
     "data": {
      "text/plain": [
       "'##file format should be in .txt , .docx or .pdf only\\np=Path(\\'/home/harsh/Downloads/HRAnalytics-Project-main\\')\\nfor item in p.glob(\\'**/*\\'):\\n    \\n    if item.suffix in ([\\'.pdf\\',\\'.docx\\',\\'.doc\\']):\\n        try:\\n            doc = Document()\\n            with open(filed, \\'r\\') as file:\\n                doc.add_paragraph(file.read())\\n            doc.save(\"text.docx\")\\n            data = ResumeParser(\\'text.docx\\').get_extracted_data()\\n            print(data[\\'skills\\'])\\n        except:\\n            data = ResumeParser(filed).get_extracted_data()\\n            print(data[\\'skills\\'])\\n    '"
      ]
     },
     "execution_count": 1,
     "metadata": {},
     "output_type": "execute_result"
    }
   ],
   "source": [
    "'''##file format should be in .txt , .docx or .pdf only\n",
    "p=Path('/home/harsh/Downloads/HRAnalytics-Project-main')\n",
    "for item in p.glob('**/*'):\n",
    "    \n",
    "    if item.suffix in (['.pdf','.docx','.doc']):\n",
    "        try:\n",
    "            doc = Document()\n",
    "            with open(filed, 'r') as file:\n",
    "                doc.add_paragraph(file.read())\n",
    "            doc.save(\"text.docx\")\n",
    "            data = ResumeParser('text.docx').get_extracted_data()\n",
    "            print(data['skills'])\n",
    "        except:\n",
    "            data = ResumeParser(filed).get_extracted_data()\n",
    "            print(data['skills'])\n",
    "    '''"
   ]
  },
  {
   "cell_type": "code",
   "execution_count": 18,
   "metadata": {},
   "outputs": [
    {
     "name": "stdout",
     "output_type": "stream",
     "text": [
      "['English', 'Physics', 'Programming', 'Algorithms', 'Pandas', 'Powerpoint', 'Statistics', 'Data analysis', 'Matplotlib', 'Word', 'Mobile', 'Keras', 'Html', 'Analysis', 'Github', 'Machine learning', 'Pycharm', 'Jupyter', 'Linux', 'Security', 'Tensorflow', 'Email', 'Windows', 'Python', 'Numpy']\n"
     ]
    }
   ],
   "source": [
    "#this code is just for one pdf \n",
    "\n",
    "try:\n",
    "    doc = Document()\n",
    "    with open(filed, 'r') as file:\n",
    "        doc.add_paragraph(file.read())\n",
    "    doc.save(\"text.docx\")\n",
    "    data = ResumeParser('text.docx').get_extracted_data()\n",
    "    print(data['skills'])\n",
    "except:\n",
    "    data = ResumeParser(filed).get_extracted_data()\n",
    "    print(data['skills'])"
   ]
  },
  {
   "cell_type": "code",
   "execution_count": null,
   "metadata": {},
   "outputs": [],
   "source": []
  },
  {
   "cell_type": "code",
   "execution_count": 13,
   "metadata": {},
   "outputs": [],
   "source": []
  },
  {
   "cell_type": "code",
   "execution_count": 12,
   "metadata": {},
   "outputs": [
    {
     "name": "stdout",
     "output_type": "stream",
     "text": [
      "\u001b[2K\u001b[38;5;2m✔ Loaded compatibility table\u001b[0m\n",
      "\u001b[1m\n",
      "====================== Installed models (spaCy v2.3.5) ======================\u001b[0m\n",
      "\u001b[38;5;4mℹ spaCy installation:\n",
      "/home/harsh/anaconda3/lib/python3.9/site-packages/spacy\u001b[0m\n",
      "\n",
      "TYPE      NAME             MODEL            VERSION                            \n",
      "package   en-core-web-sm   en_core_web_sm   \u001b[38;5;2m2.3.1\u001b[0m   \u001b[38;5;2m✔\u001b[0m\n",
      "\n"
     ]
    }
   ],
   "source": []
  },
  {
   "cell_type": "code",
   "execution_count": 79,
   "metadata": {},
   "outputs": [],
   "source": [
    "from pyresparser import ResumeParser\n",
    "import os\n",
    "from docx import Document\n",
    "import glob\n",
    "from pathlib import Path\n",
    "import pandas as pd\n",
    "\n",
    "\n",
    "\n",
    "\n",
    "\n",
    "\n",
    "#While callin\n",
    "def extract_data(path):\n",
    "    p =Path(path)\n",
    "    for item in p.glob('**/*'):\n",
    "        \n",
    "    \n",
    "        while item.suffix in (['.pdf','.docx','.doc']):\n",
    "            try:\n",
    "                resume_info= []\n",
    "                doc = Document()\n",
    "                with open(filed, 'r') as file:\n",
    "                    doc.add_paragraph(file.read())\n",
    "                doc.save(\"text.docx\")\n",
    "                data = ResumeParser('text.docx').get_extracted_data()\n",
    "                name = data['name']\n",
    "                skills = data['skills']\n",
    "                lst = [name,skills]\n",
    "                resume_info.append(lst)\n",
    "                return resume_info\n",
    "            except:\n",
    "                data = ResumeParser(filed).get_extracted_data()\n",
    "                name = data['name']\n",
    "                skills = data['skills']\n",
    "                lst = [name,skills]\n",
    "                resume_info.append(lst)\n",
    "                return resume_info\n",
    "    \n",
    "    \n",
    "\n",
    "    "
   ]
  },
  {
   "cell_type": "code",
   "execution_count": 80,
   "metadata": {},
   "outputs": [
    {
     "name": "stderr",
     "output_type": "stream",
     "text": [
      "/home/harsh/anaconda3/lib/python3.9/site-packages/spacy/util.py:275: UserWarning: [W031] Model 'en_training' (0.0.0) requires spaCy v2.1 and is incompatible with the current spaCy version (2.3.5). This may lead to unexpected results or runtime errors. To resolve this, download a newer compatible model or retrain your custom model with the current spaCy version. For more details and available updates, run: python -m spacy validate\n",
      "  warnings.warn(warn_msg)\n"
     ]
    },
    {
     "data": {
      "text/plain": [
       "[['https://www.linkedin.com/in/harsh-singh-1290a3169 GitHub',\n",
       "  ['English',\n",
       "   'Physics',\n",
       "   'Programming',\n",
       "   'Algorithms',\n",
       "   'Pandas',\n",
       "   'Powerpoint',\n",
       "   'Statistics',\n",
       "   'Data analysis',\n",
       "   'Matplotlib',\n",
       "   'Word',\n",
       "   'Mobile',\n",
       "   'Keras',\n",
       "   'Html',\n",
       "   'Analysis',\n",
       "   'Github',\n",
       "   'Machine learning',\n",
       "   'Pycharm',\n",
       "   'Jupyter',\n",
       "   'Linux',\n",
       "   'Security',\n",
       "   'Tensorflow',\n",
       "   'Email',\n",
       "   'Windows',\n",
       "   'Python',\n",
       "   'Numpy']]]"
      ]
     },
     "execution_count": 80,
     "metadata": {},
     "output_type": "execute_result"
    }
   ],
   "source": [
    "extract_data('/home/harsh/Downloads/HRAnalytics-Project-main')\n",
    "\n"
   ]
  },
  {
   "cell_type": "code",
   "execution_count": null,
   "metadata": {},
   "outputs": [],
   "source": []
  },
  {
   "cell_type": "code",
   "execution_count": null,
   "metadata": {},
   "outputs": [],
   "source": []
  }
 ],
 "metadata": {
  "kernelspec": {
   "display_name": "Python 3 (ipykernel)",
   "language": "python",
   "name": "python3"
  },
  "language_info": {
   "codemirror_mode": {
    "name": "ipython",
    "version": 3
   },
   "file_extension": ".py",
   "mimetype": "text/x-python",
   "name": "python",
   "nbconvert_exporter": "python",
   "pygments_lexer": "ipython3",
   "version": "3.9.7"
  }
 },
 "nbformat": 4,
 "nbformat_minor": 4
}
